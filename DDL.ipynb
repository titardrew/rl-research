{
 "cells": [
  {
   "cell_type": "code",
   "execution_count": 1,
   "id": "eb6f64b1",
   "metadata": {},
   "outputs": [],
   "source": [
    "# for auto-reloading external modules\n",
    "# see http://stackoverflow.com/questions/1907993/autoreload-of-modules-in-ipython\n",
    "%load_ext autoreload\n",
    "%autoreload 2"
   ]
  },
  {
   "cell_type": "markdown",
   "id": "2c30d547",
   "metadata": {},
   "source": [
    "## Todo list\n",
    "\n",
    "- [x] Refactor imitation train/eval loop\n",
    "- [ ] Invertable networks\n",
    "- [ ] LQR loss\n",
    "- [ ] Compare to the paper (Extracting Latent State Representations with Linear Dynamics from Rich Observations)\n",
    "    * That paper has problems with Hopper (PyBullet)"
   ]
  },
  {
   "cell_type": "code",
   "execution_count": 2,
   "id": "611af482",
   "metadata": {},
   "outputs": [],
   "source": [
    "from pathlib import Path\n",
    "import random\n",
    "import math\n",
    "import torch\n",
    "import torch.nn as nn\n",
    "import mujoco_py\n",
    "import gym\n",
    "import numpy as np\n",
    "import tqdm\n",
    "\n",
    "import matplotlib.pyplot as plt\n",
    "import pandas as pd\n",
    "from torch.utils.data.sampler import BatchSampler, SubsetRandomSampler"
   ]
  },
  {
   "cell_type": "code",
   "execution_count": 3,
   "id": "04166586",
   "metadata": {},
   "outputs": [],
   "source": [
    "import rl_research.algo.ppo as ppo\n",
    "import rl_research.algo.ppo.ppo\n",
    "import rl_research.algo.ppo.model\n",
    "import rl_research.algo.trivial_ddl.ddl as ddl\n",
    "import rl_research.recording as recording"
   ]
  },
  {
   "cell_type": "code",
   "execution_count": 4,
   "id": "ba1fef1a",
   "metadata": {},
   "outputs": [],
   "source": [
    "run_path         = Path(\"runs/ppo_mj_hopper_prod9\")\n",
    "pth_path         = run_path / \"ckpt/best.pth\"\n",
    "pth_preproc_path = run_path / \"ckpt/best.preproc.pth\""
   ]
  },
  {
   "cell_type": "code",
   "execution_count": 5,
   "id": "e1512e84",
   "metadata": {},
   "outputs": [],
   "source": [
    "actor_critic = torch.load(pth_path)\n",
    "preprocessor = ppo.ppo.Preprocessor.from_state(torch.load(pth_preproc_path))\n",
    "agent = ppo.ppo.PPO_Agent(preprocessor, actor_critic)"
   ]
  },
  {
   "cell_type": "code",
   "execution_count": 6,
   "id": "ba2fa482",
   "metadata": {},
   "outputs": [
    {
     "name": "stderr",
     "output_type": "stream",
     "text": [
      "100%|█████████████████████████████████████████| 300/300 [01:26<00:00,  3.47it/s]"
     ]
    },
    {
     "name": "stdout",
     "output_type": "stream",
     "text": [
      "Mean reward (Expert PPO): 3350.4009052207903\n"
     ]
    },
    {
     "name": "stderr",
     "output_type": "stream",
     "text": [
      "\n"
     ]
    }
   ],
   "source": [
    "mean_rew, rews, agg_trajectory = recording.evaluate_n_episodes(\"Hopper-v3\", agent, 300)\n",
    "print(f\"Mean reward (Expert PPO): {mean_rew}\")"
   ]
  },
  {
   "cell_type": "code",
   "execution_count": 34,
   "id": "b3f9eecf",
   "metadata": {},
   "outputs": [],
   "source": [
    "df_obs      = pd.DataFrame(data=agg_trajectory.obs, columns=[f\"obs_{i}\" for i in range(agg_trajectory.obs[0].shape[0])])\n",
    "df_obs_next = pd.DataFrame(data=agg_trajectory.obs_next, columns=[f\"obs_next_{i}\" for i in range(agg_trajectory.obs_next[0].shape[0])])\n",
    "df_act      = pd.DataFrame(data=agg_trajectory.act, columns=[f\"act_{i}\" for i in range(agg_trajectory.act[0].shape[0])])\n",
    "df_done     = pd.DataFrame(data=agg_trajectory.done, columns=[\"done\"]).astype(int)"
   ]
  },
  {
   "cell_type": "code",
   "execution_count": 59,
   "id": "4d929a90",
   "metadata": {},
   "outputs": [],
   "source": [
    "traj_end_ids = df_done.index.to_numpy()[df_done.done.to_numpy() == 1]\n",
    "traj_start_ids = np.zeros(traj_end_ids.shape[0])\n",
    "traj_start_ids[1:] = traj_end_ids[:-1] + 1"
   ]
  },
  {
   "cell_type": "code",
   "execution_count": 62,
   "id": "01b8cfdf",
   "metadata": {
    "scrolled": true
   },
   "outputs": [
    {
     "data": {
      "text/plain": [
       "array([   999,   1999,   2999,   3666,   4666,   5666,   6666,   7666,\n",
       "         8666,   9666,  10666,  11215,  12215,  13215,  14215,  15215,\n",
       "        16215,  17215,  18215,  19215,  20215,  20970,  21970,  22970,\n",
       "        23970,  24970,  25970,  26970,  27970,  28533,  29533,  30082,\n",
       "        31082,  32082,  33082,  34082,  35082,  36082,  36687,  37687,\n",
       "        38687,  39249,  40249,  41142,  42142,  42695,  43695,  44253,\n",
       "        45253,  46253,  47253,  48253,  49253,  50187,  51187,  52187,\n",
       "        53187,  54187,  55187,  56187,  57145,  58145,  59145,  60145,\n",
       "        61145,  62145,  63061,  64061,  65061,  66061,  67061,  68061,\n",
       "        69061,  70061,  71061,  72061,  73061,  73681,  74681,  75681,\n",
       "        76681,  77563,  78563,  79451,  80451,  81451,  82451,  83451,\n",
       "        84451,  85451,  86451,  87451,  88451,  89451,  90451,  91451,\n",
       "        92451,  93451,  94451,  95451,  96401,  97401,  98401,  99401,\n",
       "       100401, 101281, 102281, 103281, 103917, 104917, 105917, 106917,\n",
       "       107917, 108809, 109809, 110366, 111366, 112338, 113212, 114212,\n",
       "       115212, 116212, 117212, 118212, 119212, 120212, 121212, 121773,\n",
       "       122773, 123773, 124773, 125665, 126252, 127252, 128159, 128806,\n",
       "       129806, 130806, 131349, 132339, 133339, 134339, 135339, 136339,\n",
       "       137339, 138339, 139339, 140339, 141315, 142315, 143315, 144315,\n",
       "       145315, 146230, 147135, 148135, 148993, 149872, 150535, 151535,\n",
       "       152185, 153185, 154185, 155185, 156185, 157185, 158185, 159185,\n",
       "       160185, 160768, 161768, 162459, 163459, 164459, 165459, 166459,\n",
       "       167459, 168459, 169044, 170044, 171044, 172044, 172707, 173707,\n",
       "       174707, 175612, 176612, 177612, 178564, 179564, 180564, 181564,\n",
       "       182564, 183564, 184564, 185564, 186564, 187187, 188144, 189144,\n",
       "       190144, 191039, 192039, 193039, 194039, 195039, 196039, 196964,\n",
       "       197964, 198964, 199964, 200964, 201875, 202516, 203516, 204516,\n",
       "       205516, 206143, 206719, 207719, 208719, 209719, 210719, 211719,\n",
       "       212719, 213719, 214719, 215719, 216377, 217377, 218377, 219377,\n",
       "       220377, 221377, 222377, 223377, 224377, 225377, 226015, 227015,\n",
       "       228015, 229015, 230015, 230916, 231916, 232916, 233821, 234821,\n",
       "       235777, 236777, 237684, 238684, 239684, 240684, 241684, 242684,\n",
       "       243684, 244595, 245595, 246595, 247595, 248595, 249595, 250595,\n",
       "       251186, 251761, 252761, 253761, 254761, 255761, 256761, 257761,\n",
       "       258761, 259761, 260761, 261673, 262673, 263673, 264673, 265673,\n",
       "       266673, 267657, 268657, 269657, 270595, 271595, 272595, 273548,\n",
       "       274548, 275548, 276548, 277548, 278548, 279548, 280548, 281548,\n",
       "       282548, 283548, 284548, 285445])"
      ]
     },
     "execution_count": 62,
     "metadata": {},
     "output_type": "execute_result"
    }
   ],
   "source": [
    "traj_start_ids.astype(int, copy=False)\n",
    "traj_end_ids.astype(int, copy=False)"
   ]
  },
  {
   "cell_type": "code",
   "execution_count": 73,
   "id": "352b9249",
   "metadata": {},
   "outputs": [],
   "source": [
    "obs_size = agg_trajectory.obs[0].shape[0]\n",
    "act_size = agg_trajectory.act[0].shape[0]\n",
    "ddl_model = ddl.Model(obs_size, act_size, hidden_size=256, latent_size=32)\n",
    "ddl_policy = ddl.PolicyModel(act_size, hidden_size=256, latent_size=32)\n",
    "ddl_agent = ddl.Agent(ddl_model, ddl_policy, preprocessor)"
   ]
  },
  {
   "cell_type": "markdown",
   "id": "e73e268e",
   "metadata": {},
   "source": [
    "# NOTES\n",
    "* to numpy"
   ]
  },
  {
   "cell_type": "code",
   "execution_count": 65,
   "id": "d84d96dc",
   "metadata": {},
   "outputs": [],
   "source": [
    "def split_data(df_act, df_obs, df_obs_next, val_frac=0.20):\n",
    "    assert df_obs.shape[0] == df_obs_next.shape[0] == df_act.shape[0]\n",
    "    assert 0.0 <= val_frac <= 1.0\n",
    "    \n",
    "    num_data_points = df_act.shape[0]\n",
    "    num_train_data_ids = math.ceil((1 - val_frac) * num_data_points)\n",
    "\n",
    "    data_ids = list(range(num_data_points))\n",
    "    random.shuffle(data_ids)\n",
    "\n",
    "    train_data_ids = data_ids[:num_train_data_ids]\n",
    "    val_data_ids = data_ids[num_train_data_ids:]\n",
    "\n",
    "    return (df_act.iloc[train_data_ids], df_obs.iloc[train_data_ids], df_obs_next.iloc[train_data_ids],\n",
    "            df_act.iloc[val_data_ids], df_obs.iloc[val_data_ids], df_obs_next.iloc[val_data_ids])"
   ]
  },
  {
   "cell_type": "code",
   "execution_count": 66,
   "id": "4355faa4",
   "metadata": {},
   "outputs": [],
   "source": [
    "(\n",
    "    df_act_train, df_obs_train, df_obs_next_train,\n",
    "    df_act_val, df_obs_val, df_obs_next_val\n",
    ") = split_data(\n",
    "    df_act, df_obs, df_obs_next\n",
    ")"
   ]
  },
  {
   "cell_type": "code",
   "execution_count": 74,
   "id": "de39068a",
   "metadata": {
    "scrolled": false
   },
   "outputs": [
    {
     "name": "stdout",
     "output_type": "stream",
     "text": [
      "Train Epoch #0: (det(A)=48263072.000, det(B)=-612080320.000, loss=983.7062966, regression_loss=0.7242612, gersh(A)=495.98108, gersh(B)=487.00096, is_stable(A)=False, is_stable(B)=False, time=10.6s)\n",
      "Eval  Epoch #0: (det(A)=48263072.000, det(B)=-612080320.000, loss=506.5692243, regression_loss=0.1490889, gersh(A)=258.42993, gersh(B)=247.99020, is_stable(A)=False, is_stable(B)=False, time=0.9s)\n",
      "Train Epoch #1: (det(A)=243.223, det(B)=190768.109, loss=241.6274936, regression_loss=0.1184914, gersh(A)=126.01329, gersh(B)=115.49571, is_stable(A)=False, is_stable(B)=False, time=11.5s)\n",
      "Eval  Epoch #1: (det(A)=243.223, det(B)=190768.109, loss=60.3686060, regression_loss=0.3483042, gersh(A)=34.83260, gersh(B)=25.18771, is_stable(A)=False, is_stable(B)=False, time=0.9s)\n",
      "Train Epoch #2: (det(A)=995.262, det(B)=9256607.000, loss=18.3141022, regression_loss=0.2146491, gersh(A)=9.61369, gersh(B)=8.48576, is_stable(A)=True, is_stable(B)=True, time=11.1s)\n",
      "Eval  Epoch #2: (det(A)=995.262, det(B)=9256607.000, loss=3.0972719, regression_loss=0.6031809, gersh(A)=0.44397, gersh(B)=2.05013, is_stable(A)=True, is_stable(B)=True, time=0.9s)\n",
      "Train Epoch #3: (det(A)=2006.238, det(B)=15504054.000, loss=0.7087246, regression_loss=0.2062775, gersh(A)=0.02602, gersh(B)=0.47643, is_stable(A)=True, is_stable(B)=True, time=11.5s)\n",
      "Eval  Epoch #3: (det(A)=2006.238, det(B)=15504054.000, loss=0.3751685, regression_loss=0.3751685, gersh(A)=0.00000, gersh(B)=0.00000, is_stable(A)=True, is_stable(B)=True, time=0.9s)\n",
      "Train Epoch #4: (det(A)=4891.746, det(B)=15780572.000, loss=0.1365063, regression_loss=0.1365017, gersh(A)=0.00000, gersh(B)=0.00000, is_stable(A)=True, is_stable(B)=True, time=11.4s)\n",
      "Eval  Epoch #4: (det(A)=4891.746, det(B)=15780572.000, loss=0.3171512, regression_loss=0.3171512, gersh(A)=0.00000, gersh(B)=0.00000, is_stable(A)=True, is_stable(B)=True, time=0.9s)\n",
      "Train Epoch #5: (det(A)=4962.479, det(B)=15627123.000, loss=0.1090619, regression_loss=0.1090598, gersh(A)=0.00000, gersh(B)=0.00000, is_stable(A)=True, is_stable(B)=True, time=11.2s)\n",
      "Eval  Epoch #5: (det(A)=4962.479, det(B)=15627123.000, loss=0.2804841, regression_loss=0.2804841, gersh(A)=0.00000, gersh(B)=0.00000, is_stable(A)=True, is_stable(B)=True, time=0.9s)\n",
      "Train Epoch #6: (det(A)=3463.414, det(B)=15422295.000, loss=0.1092350, regression_loss=0.1092327, gersh(A)=0.00000, gersh(B)=0.00000, is_stable(A)=True, is_stable(B)=True, time=11.1s)\n",
      "Eval  Epoch #6: (det(A)=3463.414, det(B)=15422295.000, loss=0.2402928, regression_loss=0.2402928, gersh(A)=0.00000, gersh(B)=0.00000, is_stable(A)=True, is_stable(B)=True, time=0.9s)\n",
      "Train Epoch #7: (det(A)=2888.985, det(B)=15427837.000, loss=0.0922932, regression_loss=0.0922913, gersh(A)=0.00000, gersh(B)=0.00000, is_stable(A)=True, is_stable(B)=True, time=11.5s)\n",
      "Eval  Epoch #7: (det(A)=2888.985, det(B)=15427837.000, loss=0.2357241, regression_loss=0.2357241, gersh(A)=0.00000, gersh(B)=0.00000, is_stable(A)=True, is_stable(B)=True, time=0.9s)\n",
      "Train Epoch #8: (det(A)=2517.069, det(B)=15273130.000, loss=0.0827800, regression_loss=0.0827782, gersh(A)=0.00000, gersh(B)=0.00000, is_stable(A)=True, is_stable(B)=True, time=11.6s)\n",
      "Eval  Epoch #8: (det(A)=2517.069, det(B)=15273130.000, loss=0.1712805, regression_loss=0.1712805, gersh(A)=0.00000, gersh(B)=0.00000, is_stable(A)=True, is_stable(B)=True, time=0.9s)\n",
      "Train Epoch #9: (det(A)=2035.641, det(B)=15021390.000, loss=0.0619001, regression_loss=0.0618989, gersh(A)=0.00000, gersh(B)=0.00000, is_stable(A)=True, is_stable(B)=True, time=11.2s)\n",
      "Eval  Epoch #9: (det(A)=2035.641, det(B)=15021390.000, loss=0.1648287, regression_loss=0.1648287, gersh(A)=0.00000, gersh(B)=0.00000, is_stable(A)=True, is_stable(B)=True, time=0.9s)\n",
      "Train Epoch #10: (det(A)=1572.580, det(B)=14729603.000, loss=0.0524291, regression_loss=0.0524283, gersh(A)=0.00000, gersh(B)=0.00000, is_stable(A)=True, is_stable(B)=True, time=11.5s)\n",
      "Eval  Epoch #10: (det(A)=1572.580, det(B)=14729603.000, loss=0.1377179, regression_loss=0.1377179, gersh(A)=0.00000, gersh(B)=0.00000, is_stable(A)=True, is_stable(B)=True, time=0.9s)\n",
      "Train Epoch #11: (det(A)=1314.018, det(B)=14729377.000, loss=0.0610677, regression_loss=0.0610664, gersh(A)=0.00000, gersh(B)=0.00000, is_stable(A)=True, is_stable(B)=True, time=11.4s)\n",
      "Eval  Epoch #11: (det(A)=1314.018, det(B)=14729377.000, loss=0.1615124, regression_loss=0.1615124, gersh(A)=0.00000, gersh(B)=0.00000, is_stable(A)=True, is_stable(B)=True, time=0.9s)\n",
      "Train Epoch #12: (det(A)=1289.331, det(B)=14575638.000, loss=0.0675682, regression_loss=0.0675670, gersh(A)=0.00000, gersh(B)=0.00000, is_stable(A)=True, is_stable(B)=True, time=11.5s)\n",
      "Eval  Epoch #12: (det(A)=1289.331, det(B)=14575638.000, loss=0.1563157, regression_loss=0.1563157, gersh(A)=0.00000, gersh(B)=0.00000, is_stable(A)=True, is_stable(B)=True, time=0.9s)\n",
      "Train Epoch #13: (det(A)=1243.194, det(B)=14589933.000, loss=0.0599618, regression_loss=0.0599610, gersh(A)=0.00000, gersh(B)=0.00000, is_stable(A)=True, is_stable(B)=True, time=11.4s)\n",
      "Eval  Epoch #13: (det(A)=1243.194, det(B)=14589933.000, loss=0.1264926, regression_loss=0.1264926, gersh(A)=0.00000, gersh(B)=0.00000, is_stable(A)=True, is_stable(B)=True, time=0.9s)\n",
      "Train Epoch #14: (det(A)=1110.003, det(B)=14473251.000, loss=0.0519375, regression_loss=0.0519366, gersh(A)=0.00000, gersh(B)=0.00000, is_stable(A)=True, is_stable(B)=True, time=11.1s)\n",
      "Eval  Epoch #14: (det(A)=1110.003, det(B)=14473251.000, loss=0.1294766, regression_loss=0.1294766, gersh(A)=0.00000, gersh(B)=0.00000, is_stable(A)=True, is_stable(B)=True, time=0.9s)\n"
     ]
    }
   ],
   "source": [
    "for i_epoch in range(15):\n",
    "    train_stats, eval_stats = ddl.train_latent_one_epoch(\n",
    "        ddl_model,\n",
    "        preprocessor,\n",
    "        df_act_train, df_obs_train, df_obs_next_train,\n",
    "        df_act_val, df_obs_val, df_obs_next_val,\n",
    "        lr=1e-4, batch_size=32, regression_weight=1.0\n",
    "    )\n",
    "    print(f\"Train Epoch #{i_epoch}: {train_stats}\")\n",
    "    print(f\"Eval  Epoch #{i_epoch}: {eval_stats}\")"
   ]
  },
  {
   "cell_type": "code",
   "execution_count": 75,
   "id": "65e6047f",
   "metadata": {},
   "outputs": [
    {
     "name": "stdout",
     "output_type": "stream",
     "text": [
      "Train Epoch #0: (loss=2.9432009, time=7.14s)\n",
      "Eval  Epoch #0: (loss=2.6546783, time=0.57s)\n",
      "Train Epoch #1: (loss=2.4812912, time=6.42s)\n",
      "Eval  Epoch #1: (loss=2.2648967, time=0.58s)\n",
      "Train Epoch #2: (loss=2.1813376, time=6.52s)\n",
      "Eval  Epoch #2: (loss=2.1803170, time=0.58s)\n",
      "Train Epoch #3: (loss=2.0918030, time=6.70s)\n",
      "Eval  Epoch #3: (loss=2.0035190, time=0.59s)\n",
      "Train Epoch #4: (loss=2.0352445, time=6.49s)\n",
      "Eval  Epoch #4: (loss=1.9267732, time=0.63s)\n",
      "Train Epoch #5: (loss=2.0016060, time=6.68s)\n",
      "Eval  Epoch #5: (loss=1.9122217, time=0.60s)\n",
      "Train Epoch #6: (loss=1.9510232, time=6.67s)\n",
      "Eval  Epoch #6: (loss=1.9864523, time=0.65s)\n",
      "Train Epoch #7: (loss=1.8987660, time=6.71s)\n",
      "Eval  Epoch #7: (loss=1.8322712, time=0.59s)\n",
      "Train Epoch #8: (loss=1.8628444, time=7.09s)\n",
      "Eval  Epoch #8: (loss=1.7706153, time=0.74s)\n",
      "Train Epoch #9: (loss=1.8241644, time=7.69s)\n",
      "Eval  Epoch #9: (loss=1.8140022, time=0.72s)\n",
      "Train Epoch #10: (loss=1.7982441, time=7.80s)\n",
      "Eval  Epoch #10: (loss=1.7357274, time=0.70s)\n",
      "Train Epoch #11: (loss=1.7721174, time=7.83s)\n",
      "Eval  Epoch #11: (loss=1.8164040, time=0.72s)\n",
      "Train Epoch #12: (loss=1.7619948, time=7.86s)\n",
      "Eval  Epoch #12: (loss=1.6981895, time=0.73s)\n",
      "Train Epoch #13: (loss=1.7417588, time=7.70s)\n",
      "Eval  Epoch #13: (loss=1.6866450, time=0.71s)\n",
      "Train Epoch #14: (loss=1.7219594, time=7.76s)\n",
      "Eval  Epoch #14: (loss=1.6503812, time=0.71s)\n",
      "Train Epoch #15: (loss=1.7062105, time=7.81s)\n",
      "Eval  Epoch #15: (loss=1.6172039, time=0.77s)\n",
      "Train Epoch #16: (loss=1.6885128, time=7.83s)\n",
      "Eval  Epoch #16: (loss=1.6035364, time=0.71s)\n",
      "Train Epoch #17: (loss=1.6788845, time=7.87s)\n",
      "Eval  Epoch #17: (loss=1.5965262, time=0.68s)\n",
      "Train Epoch #18: (loss=1.6660354, time=7.77s)\n",
      "Eval  Epoch #18: (loss=1.6329632, time=0.71s)\n",
      "Train Epoch #19: (loss=1.6545463, time=7.55s)\n",
      "Eval  Epoch #19: (loss=1.7508620, time=0.70s)\n",
      "Train Epoch #20: (loss=1.6453656, time=7.72s)\n",
      "Eval  Epoch #20: (loss=1.6598233, time=0.69s)\n",
      "Train Epoch #21: (loss=1.6292107, time=8.05s)\n",
      "Eval  Epoch #21: (loss=1.7579558, time=0.72s)\n",
      "Train Epoch #22: (loss=1.6166883, time=7.74s)\n",
      "Eval  Epoch #22: (loss=1.7299020, time=0.70s)\n",
      "Train Epoch #23: (loss=1.6086300, time=7.66s)\n",
      "Eval  Epoch #23: (loss=1.5557380, time=0.71s)\n"
     ]
    }
   ],
   "source": [
    "for i_epoch in range(24):\n",
    "    train_stats, eval_stats = ddl.train_policy_one_epoch(\n",
    "        ddl_model,\n",
    "        ddl_policy,\n",
    "        preprocessor,\n",
    "        df_act_train, df_obs_train, df_obs_next_train,\n",
    "        df_act_val, df_obs_val, df_obs_next_val,\n",
    "        lr=1e-3, batch_size=32\n",
    "    )\n",
    "    print(f\"Train Epoch #{i_epoch}: {train_stats}\")\n",
    "    print(f\"Eval  Epoch #{i_epoch}: {eval_stats}\")"
   ]
  },
  {
   "cell_type": "code",
   "execution_count": 76,
   "id": "58a8c13a",
   "metadata": {},
   "outputs": [
    {
     "name": "stderr",
     "output_type": "stream",
     "text": [
      "100%|█████████████████████████████████████████| 300/300 [00:03<00:00, 79.98it/s]"
     ]
    },
    {
     "name": "stdout",
     "output_type": "stream",
     "text": [
      "Mean reward (DDL): 48.13361213910028\n"
     ]
    },
    {
     "name": "stderr",
     "output_type": "stream",
     "text": [
      "\n"
     ]
    }
   ],
   "source": [
    "mean_rew, _, _ = recording.evaluate_n_episodes(\"Hopper-v3\", ddl_agent, 300)\n",
    "print(f\"Mean reward (DDL): {mean_rew}\")"
   ]
  },
  {
   "cell_type": "code",
   "execution_count": 14,
   "id": "86c16a0c",
   "metadata": {},
   "outputs": [],
   "source": [
    "import numpy as np"
   ]
  },
  {
   "cell_type": "code",
   "execution_count": 15,
   "id": "675679b3",
   "metadata": {
    "scrolled": true
   },
   "outputs": [
    {
     "name": "stderr",
     "output_type": "stream",
     "text": [
      "100%|████████████████████████████████████████| 300/300 [00:01<00:00, 252.61it/s]"
     ]
    },
    {
     "name": "stdout",
     "output_type": "stream",
     "text": [
      "Mean reward (Random): 19.048736695626665\n"
     ]
    },
    {
     "name": "stderr",
     "output_type": "stream",
     "text": [
      "\n"
     ]
    }
   ],
   "source": [
    "env = gym.make(\"Hopper-v3\")\n",
    "random_baseline_agent = recording.RandomAgent(env.action_space)\n",
    "mean_rew, _, _ = recording.evaluate_n_episodes(env, random_baseline_agent, 300)\n",
    "print(f\"Mean reward (Random): {mean_rew}\")"
   ]
  },
  {
   "cell_type": "code",
   "execution_count": null,
   "id": "57de8610",
   "metadata": {},
   "outputs": [],
   "source": []
  }
 ],
 "metadata": {
  "kernelspec": {
   "display_name": "Python 3 (ipykernel)",
   "language": "python",
   "name": "python3"
  },
  "language_info": {
   "codemirror_mode": {
    "name": "ipython",
    "version": 3
   },
   "file_extension": ".py",
   "mimetype": "text/x-python",
   "name": "python",
   "nbconvert_exporter": "python",
   "pygments_lexer": "ipython3",
   "version": "3.8.10"
  }
 },
 "nbformat": 4,
 "nbformat_minor": 5
}
